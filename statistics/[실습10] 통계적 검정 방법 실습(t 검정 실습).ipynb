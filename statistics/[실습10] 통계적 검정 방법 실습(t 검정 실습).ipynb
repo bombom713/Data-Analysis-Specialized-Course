{
 "cells": [
  {
   "cell_type": "code",
   "execution_count": 1,
   "id": "9ffe7bc8",
   "metadata": {},
   "outputs": [],
   "source": [
    "import os\n",
    "import warnings\n",
    "warnings.simplefilter(action='ignore',category=FutureWarning)\n",
    "\n",
    "import pandas as pd\n",
    "import numpy as np\n",
    "import math\n",
    "from scipy import stats\n",
    "\n",
    "import matplotlib.pyplot as plt\n",
    "import seaborn as sns\n",
    "%matplotlib inline\n",
    "\n",
    "import os\n",
    "if os.name=='nt':\n",
    "    font_family=\"Malgun Gothic\"\n",
    "else:\n",
    "    font_family=\"AppleGothic\"\n",
    "    \n",
    "    sns.set(font=font_family,rc={\"axes.unicode_minus\":False})"
   ]
  },
  {
   "cell_type": "code",
   "execution_count": 2,
   "id": "9b205818",
   "metadata": {},
   "outputs": [],
   "source": [
    "data=[177.3,182.7,169.6,160,180.3,179.4,178.5,177.2,181.8,176.5,190,185,167,171]"
   ]
  },
  {
   "cell_type": "code",
   "execution_count": 3,
   "id": "8822eae1",
   "metadata": {},
   "outputs": [
    {
     "data": {
      "text/plain": [
       "ShapiroResult(statistic=0.9641273021697998, pvalue=0.7900116443634033)"
      ]
     },
     "execution_count": 3,
     "metadata": {},
     "output_type": "execute_result"
    }
   ],
   "source": [
    "stats.shapiro(data)"
   ]
  },
  {
   "cell_type": "code",
   "execution_count": 4,
   "id": "7ab62626",
   "metadata": {},
   "outputs": [
    {
     "name": "stdout",
     "output_type": "stream",
     "text": [
      "t검정 통계랑=0.903,pvalue=0.383\n"
     ]
    }
   ],
   "source": [
    "m_a=0.05\n",
    "\n",
    "s_mu=175\n",
    "one_sample_result=stats.ttest_1samp(data,popmean=s_mu)\n",
    "\n",
    "print('t검정 통계랑=%.3f,pvalue=%.3f'%(one_sample_result))"
   ]
  },
  {
   "cell_type": "code",
   "execution_count": 5,
   "id": "e17b89c1",
   "metadata": {},
   "outputs": [
    {
     "name": "stdout",
     "output_type": "stream",
     "text": [
      "14\n",
      "176.87857142857143\n",
      "7.782443611837389\n",
      "t검정 통계량: 0.903\n",
      "p_value(유의확률): 0.383\n"
     ]
    }
   ],
   "source": [
    "n=len(data)\n",
    "print(len(data))\n",
    "hysis_mu=np.mean(data)\n",
    "print(np.mean(data))\n",
    "\n",
    "s_mu=175\n",
    "\n",
    "s_sigma=np.std(data,ddof=1)\n",
    "print(np.std(data,ddof=1))\n",
    "\n",
    "t_value=(hysis_mu-s_mu)/(s_sigma/np.sqrt(n))\n",
    "\n",
    "print('t검정 통계량:',round(t_value,3))\n",
    "\n",
    "print('p_value(유의확률):',round((1-stats.t(df=13).cdf(t_value))*2,3))"
   ]
  },
  {
   "cell_type": "code",
   "execution_count": 6,
   "id": "b90bac0a",
   "metadata": {},
   "outputs": [
    {
     "name": "stdout",
     "output_type": "stream",
     "text": [
      "유의수준: 0.05\n",
      "기각값: 2.1603686564610127\n"
     ]
    }
   ],
   "source": [
    "print('유의수준:',m_a)\n",
    "\n",
    "t_95=stats.t.ppf(1-(1-0.95)/2,df=n-1)\n",
    "\n",
    "print('기각값:',t_95)"
   ]
  },
  {
   "cell_type": "code",
   "execution_count": 7,
   "id": "1e82a043",
   "metadata": {},
   "outputs": [],
   "source": [
    "before_data=[7,3,4,5,2,1,6,6,5,4]\n",
    "after_data=[8,4,5,6,2,3,6,8,6,5]\n",
    "\n",
    "check=['befor','after']\n",
    "\n",
    "check=[check[j] for j in range(2) for i in range(10)]\n",
    "\n",
    "data=pd.DataFrame({'when':check,'score':before_data+after_data})"
   ]
  },
  {
   "cell_type": "code",
   "execution_count": 8,
   "id": "7f3c56d1",
   "metadata": {},
   "outputs": [
    {
     "data": {
      "text/html": [
       "<div>\n",
       "<style scoped>\n",
       "    .dataframe tbody tr th:only-of-type {\n",
       "        vertical-align: middle;\n",
       "    }\n",
       "\n",
       "    .dataframe tbody tr th {\n",
       "        vertical-align: top;\n",
       "    }\n",
       "\n",
       "    .dataframe thead th {\n",
       "        text-align: right;\n",
       "    }\n",
       "</style>\n",
       "<table border=\"1\" class=\"dataframe\">\n",
       "  <thead>\n",
       "    <tr style=\"text-align: right;\">\n",
       "      <th></th>\n",
       "      <th>when</th>\n",
       "      <th>score</th>\n",
       "    </tr>\n",
       "  </thead>\n",
       "  <tbody>\n",
       "    <tr>\n",
       "      <th>0</th>\n",
       "      <td>befor</td>\n",
       "      <td>7</td>\n",
       "    </tr>\n",
       "    <tr>\n",
       "      <th>1</th>\n",
       "      <td>befor</td>\n",
       "      <td>3</td>\n",
       "    </tr>\n",
       "    <tr>\n",
       "      <th>2</th>\n",
       "      <td>befor</td>\n",
       "      <td>4</td>\n",
       "    </tr>\n",
       "    <tr>\n",
       "      <th>3</th>\n",
       "      <td>befor</td>\n",
       "      <td>5</td>\n",
       "    </tr>\n",
       "    <tr>\n",
       "      <th>4</th>\n",
       "      <td>befor</td>\n",
       "      <td>2</td>\n",
       "    </tr>\n",
       "  </tbody>\n",
       "</table>\n",
       "</div>"
      ],
      "text/plain": [
       "    when  score\n",
       "0  befor      7\n",
       "1  befor      3\n",
       "2  befor      4\n",
       "3  befor      5\n",
       "4  befor      2"
      ]
     },
     "execution_count": 8,
     "metadata": {},
     "output_type": "execute_result"
    }
   ],
   "source": [
    "data.head()"
   ]
  },
  {
   "cell_type": "code",
   "execution_count": 9,
   "id": "0ebbf06d",
   "metadata": {},
   "outputs": [
    {
     "name": "stdout",
     "output_type": "stream",
     "text": [
      "ShapiroResult(statistic=0.9644594192504883, pvalue=0.8352694511413574)\n",
      "ShapiroResult(statistic=0.9456835985183716, pvalue=0.6177982091903687)\n"
     ]
    }
   ],
   "source": [
    "from scipy.stats import shapiro\n",
    "\n",
    "normal_before=shapiro(before_data)\n",
    "normal_after=shapiro(after_data)\n",
    "\n",
    "print(normal_before)\n",
    "print(normal_after)"
   ]
  },
  {
   "cell_type": "code",
   "execution_count": 10,
   "id": "f9b1cafe",
   "metadata": {},
   "outputs": [
    {
     "name": "stdout",
     "output_type": "stream",
     "text": [
      "LeveneResult(statistic=0.0, pvalue=1.0)\n",
      "BartlettResult(statistic=0.007785808167159078, pvalue=0.9296881301038368)\n"
     ]
    }
   ],
   "source": [
    "from scipy.stats import levene\n",
    "print(levene(before_data,after_data))\n",
    "\n",
    "from scipy.stats import bartlett\n",
    "print(bartlett(before_data,after_data))"
   ]
  },
  {
   "cell_type": "code",
   "execution_count": 11,
   "id": "2d856a79",
   "metadata": {},
   "outputs": [],
   "source": [
    "paired_result=stats.ttest_rel(before_data,after_data)"
   ]
  },
  {
   "cell_type": "code",
   "execution_count": 12,
   "id": "41080a42",
   "metadata": {},
   "outputs": [
    {
     "name": "stdout",
     "output_type": "stream",
     "text": [
      "t검정 통계량=-4.743,pvalue=0.001\n"
     ]
    }
   ],
   "source": [
    "print('t검정 통계량=%.3f,pvalue=%.3f'%paired_result)"
   ]
  },
  {
   "cell_type": "code",
   "execution_count": 13,
   "id": "9ed56469",
   "metadata": {},
   "outputs": [],
   "source": [
    "seoul=[-1,0,3,4,1,3,3,1,1,3,2,4]\n",
    "daegu=[6,6,8,8,11,11,10,8,8,9,7,10]\n",
    "region=['seoul']*12+['dague']*12\n",
    "data=pd.DataFrame({'region':region,'temp':seoul+daegu})"
   ]
  },
  {
   "cell_type": "code",
   "execution_count": 14,
   "id": "0e8e410b",
   "metadata": {},
   "outputs": [
    {
     "data": {
      "text/html": [
       "<div>\n",
       "<style scoped>\n",
       "    .dataframe tbody tr th:only-of-type {\n",
       "        vertical-align: middle;\n",
       "    }\n",
       "\n",
       "    .dataframe tbody tr th {\n",
       "        vertical-align: top;\n",
       "    }\n",
       "\n",
       "    .dataframe thead th {\n",
       "        text-align: right;\n",
       "    }\n",
       "</style>\n",
       "<table border=\"1\" class=\"dataframe\">\n",
       "  <thead>\n",
       "    <tr style=\"text-align: right;\">\n",
       "      <th></th>\n",
       "      <th>region</th>\n",
       "      <th>temp</th>\n",
       "    </tr>\n",
       "  </thead>\n",
       "  <tbody>\n",
       "    <tr>\n",
       "      <th>0</th>\n",
       "      <td>seoul</td>\n",
       "      <td>-1</td>\n",
       "    </tr>\n",
       "    <tr>\n",
       "      <th>1</th>\n",
       "      <td>seoul</td>\n",
       "      <td>0</td>\n",
       "    </tr>\n",
       "    <tr>\n",
       "      <th>2</th>\n",
       "      <td>seoul</td>\n",
       "      <td>3</td>\n",
       "    </tr>\n",
       "  </tbody>\n",
       "</table>\n",
       "</div>"
      ],
      "text/plain": [
       "  region  temp\n",
       "0  seoul    -1\n",
       "1  seoul     0\n",
       "2  seoul     3"
      ]
     },
     "execution_count": 14,
     "metadata": {},
     "output_type": "execute_result"
    }
   ],
   "source": [
    "data.head(3)"
   ]
  },
  {
   "cell_type": "code",
   "execution_count": 15,
   "id": "3e82bf20",
   "metadata": {},
   "outputs": [
    {
     "name": "stdout",
     "output_type": "stream",
     "text": [
      "ShapiroResult(statistic=0.9178412556648254, pvalue=0.2685365378856659)\n",
      "ShapiroResult(statistic=0.9212772846221924, pvalue=0.2966691553592682)\n"
     ]
    }
   ],
   "source": [
    "normal_seoul=shapiro(seoul)\n",
    "normaldaegu=shapiro(daegu)\n",
    "print(normal_seoul)\n",
    "print(normaldaegu)"
   ]
  },
  {
   "cell_type": "code",
   "execution_count": 16,
   "id": "5772f932",
   "metadata": {},
   "outputs": [
    {
     "name": "stdout",
     "output_type": "stream",
     "text": [
      "LeveneResult(statistic=0.0, pvalue=1.0)\n",
      "BartlettResult(statistic=0.07093015354702552, pvalue=0.7899872613272646)\n"
     ]
    }
   ],
   "source": [
    "print(levene(seoul,daegu))\n",
    "\n",
    "print(bartlett(seoul,daegu))"
   ]
  },
  {
   "cell_type": "code",
   "execution_count": 17,
   "id": "839ca0ff",
   "metadata": {},
   "outputs": [
    {
     "name": "stdout",
     "output_type": "stream",
     "text": [
      "t검정 통계량: -9.562, pvalue=0.000000002711180\n"
     ]
    }
   ],
   "source": [
    "ttests_result=stats.ttest_ind(seoul,daegu,equal_var=True)\n",
    "\n",
    "print(\"t검정 통계량: %.3f, pvalue=%.15f\"%(ttests_result))"
   ]
  }
 ],
 "metadata": {
  "kernelspec": {
   "display_name": "Python 3 (ipykernel)",
   "language": "python",
   "name": "python3"
  },
  "language_info": {
   "codemirror_mode": {
    "name": "ipython",
    "version": 3
   },
   "file_extension": ".py",
   "mimetype": "text/x-python",
   "name": "python",
   "nbconvert_exporter": "python",
   "pygments_lexer": "ipython3",
   "version": "3.9.12"
  }
 },
 "nbformat": 4,
 "nbformat_minor": 5
}
