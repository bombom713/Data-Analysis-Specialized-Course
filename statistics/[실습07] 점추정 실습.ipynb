{
 "cells": [
  {
   "cell_type": "code",
   "execution_count": 1,
   "id": "824f3961",
   "metadata": {},
   "outputs": [],
   "source": [
    "import os\n",
    "import warnings\n",
    "warnings.simplefilter(action='ignore',category=FutureWarning)\n",
    "\n",
    "import pandas as pd\n",
    "import numpy as np\n",
    "import math\n",
    "from scipy import stats\n",
    "\n",
    "import matplotlib.pyplot as plt\n",
    "import seaborn as sns\n",
    "%matplotlib inline\n",
    "\n",
    "import os\n",
    "if os.name=='nt':\n",
    "    font_family=\"Malgun Gothic\"\n",
    "else:\n",
    "    font_family=\"AppleGothic\"\n",
    "\n",
    "sns.set(font=font_family,rc={\"axes.unicode_minus\":False})"
   ]
  },
  {
   "cell_type": "code",
   "execution_count": 2,
   "id": "a7115212",
   "metadata": {},
   "outputs": [],
   "source": [
    "np.random.seed(100)\n",
    "\n",
    "math_score=pd.DataFrame(np.random.randint(25,101,size=500),columns=[\"점수\"])"
   ]
  },
  {
   "cell_type": "code",
   "execution_count": 3,
   "id": "50352aae",
   "metadata": {},
   "outputs": [
    {
     "data": {
      "text/html": [
       "<div>\n",
       "<style scoped>\n",
       "    .dataframe tbody tr th:only-of-type {\n",
       "        vertical-align: middle;\n",
       "    }\n",
       "\n",
       "    .dataframe tbody tr th {\n",
       "        vertical-align: top;\n",
       "    }\n",
       "\n",
       "    .dataframe thead th {\n",
       "        text-align: right;\n",
       "    }\n",
       "</style>\n",
       "<table border=\"1\" class=\"dataframe\">\n",
       "  <thead>\n",
       "    <tr style=\"text-align: right;\">\n",
       "      <th></th>\n",
       "      <th>점수</th>\n",
       "    </tr>\n",
       "  </thead>\n",
       "  <tbody>\n",
       "    <tr>\n",
       "      <th>count</th>\n",
       "      <td>500.000000</td>\n",
       "    </tr>\n",
       "    <tr>\n",
       "      <th>mean</th>\n",
       "      <td>61.580000</td>\n",
       "    </tr>\n",
       "    <tr>\n",
       "      <th>std</th>\n",
       "      <td>21.513374</td>\n",
       "    </tr>\n",
       "    <tr>\n",
       "      <th>min</th>\n",
       "      <td>25.000000</td>\n",
       "    </tr>\n",
       "    <tr>\n",
       "      <th>25%</th>\n",
       "      <td>42.000000</td>\n",
       "    </tr>\n",
       "    <tr>\n",
       "      <th>50%</th>\n",
       "      <td>62.500000</td>\n",
       "    </tr>\n",
       "    <tr>\n",
       "      <th>75%</th>\n",
       "      <td>79.000000</td>\n",
       "    </tr>\n",
       "    <tr>\n",
       "      <th>max</th>\n",
       "      <td>100.000000</td>\n",
       "    </tr>\n",
       "  </tbody>\n",
       "</table>\n",
       "</div>"
      ],
      "text/plain": [
       "               점수\n",
       "count  500.000000\n",
       "mean    61.580000\n",
       "std     21.513374\n",
       "min     25.000000\n",
       "25%     42.000000\n",
       "50%     62.500000\n",
       "75%     79.000000\n",
       "max    100.000000"
      ]
     },
     "execution_count": 3,
     "metadata": {},
     "output_type": "execute_result"
    }
   ],
   "source": [
    "math_score.describe()"
   ]
  },
  {
   "cell_type": "code",
   "execution_count": 4,
   "id": "aa374332",
   "metadata": {},
   "outputs": [
    {
     "data": {
      "text/plain": [
       "array([33, 49, 92, 73, 35])"
      ]
     },
     "execution_count": 4,
     "metadata": {},
     "output_type": "execute_result"
    }
   ],
   "source": [
    "scores=np.array(math_score['점수'])\n",
    "scores[:5]"
   ]
  },
  {
   "cell_type": "code",
   "execution_count": 5,
   "id": "892abf54",
   "metadata": {},
   "outputs": [
    {
     "name": "stdout",
     "output_type": "stream",
     "text": [
      "[85 91 85 81 64 96 83 68 53 52 61 80 89 32 95 64 81 72 94 92]\n",
      "75.9\n",
      "282.29\n",
      "16.801488029338355\n"
     ]
    }
   ],
   "source": [
    "sample=np.random.choice(scores,20)\n",
    "print(sample)\n",
    "print(sample.mean())\n",
    "print(sample.var())\n",
    "print(sample.std())"
   ]
  },
  {
   "cell_type": "code",
   "execution_count": 6,
   "id": "f8b6ab91",
   "metadata": {},
   "outputs": [
    {
     "name": "stdout",
     "output_type": "stream",
     "text": [
      "1 표본평균 67.0\n",
      "2 표본평균 61.55\n",
      "3 표본평균 59.55\n",
      "4 표본평균 62.6\n",
      "5 표본평균 57.95\n",
      "6 표본평균 57.8\n",
      "7 표본평균 59.85\n",
      "8 표본평균 65.05\n",
      "9 표본평균 60.0\n",
      "10 표본평균 63.05\n"
     ]
    }
   ],
   "source": [
    "for i in range(10):\n",
    "    sample1=np.random.choice(scores,20)\n",
    "    print(i+1,\"표본평균\",sample1.mean())"
   ]
  },
  {
   "cell_type": "code",
   "execution_count": 8,
   "id": "d53cc682",
   "metadata": {},
   "outputs": [
    {
     "data": {
      "image/png": "[encoded data removed]",
      "text/plain": [
       "<Figure size 432x288 with 1 Axes>"
      ]
     },
     "metadata": {},
     "output_type": "display_data"
    }
   ],
   "source": [
    "plt.xlabel('score')\n",
    "plt.ylabel('relative frequency')\n",
    "plt.hist(scores,bins=100,range=(0,100),density=True)\n",
    "plt.xlim(20,100)\n",
    "plt.show()"
   ]
  },
  {
   "cell_type": "code",
   "execution_count": 9,
   "id": "9f437347",
   "metadata": {},
   "outputs": [],
   "source": [
    "sample_score=np.random.choice(scores,10000)"
   ]
  },
  {
   "cell_type": "code",
   "execution_count": 10,
   "id": "ebfb5911",
   "metadata": {},
   "outputs": [
    {
     "data": {
      "image/png": "[encoded data removed]",
      "text/plain": [
       "<Figure size 432x288 with 1 Axes>"
      ]
     },
     "metadata": {},
     "output_type": "display_data"
    }
   ],
   "source": [
    "plt.hist(sample_score,bins=100,range=(0,100),density=True)\n",
    "plt.xlim(20,100)\n",
    "plt.show()"
   ]
  },
  {
   "cell_type": "code",
   "execution_count": 11,
   "id": "10aea938",
   "metadata": {},
   "outputs": [],
   "source": [
    "n=20\n",
    "nSample=100\n",
    "\n",
    "sample_mean=np.array([np.random.choice(scores,n,).mean() for _ in range(nSample)])"
   ]
  },
  {
   "cell_type": "code",
   "execution_count": 12,
   "id": "cee13e61",
   "metadata": {},
   "outputs": [
    {
     "data": {
      "text/plain": [
       "array([63.9 , 62.65, 63.4 , 57.4 , 56.75, 60.35, 55.15, 67.2 , 58.15,\n",
       "       64.15, 67.7 , 58.45, 58.1 , 60.5 , 58.3 , 63.2 , 65.  , 63.1 ,\n",
       "       58.75, 70.2 , 61.3 , 60.95, 55.4 , 62.25, 62.7 , 62.8 , 61.05,\n",
       "       71.3 , 56.8 , 73.4 , 63.  , 63.15, 65.6 , 64.35, 61.55, 74.35,\n",
       "       51.85, 58.9 , 57.1 , 57.1 , 52.8 , 65.8 , 68.9 , 62.75, 54.4 ,\n",
       "       57.95, 62.7 , 60.15, 64.15, 61.4 , 71.75, 54.4 , 60.5 , 59.85,\n",
       "       57.3 , 61.3 , 55.95, 67.45, 62.45, 61.8 , 55.2 , 61.85, 71.1 ,\n",
       "       62.85, 69.7 , 58.15, 49.75, 58.85, 67.2 , 67.5 , 68.65, 56.1 ,\n",
       "       62.8 , 58.  , 57.75, 59.2 , 55.35, 67.5 , 56.9 , 59.3 , 67.15,\n",
       "       50.75, 63.4 , 72.2 , 60.6 , 67.3 , 50.45, 69.55, 69.85, 63.1 ,\n",
       "       62.1 , 64.8 , 70.7 , 71.25, 58.9 , 63.9 , 62.65, 65.2 , 64.9 ,\n",
       "       61.  ])"
      ]
     },
     "execution_count": 12,
     "metadata": {},
     "output_type": "execute_result"
    }
   ],
   "source": [
    "sample_mean"
   ]
  },
  {
   "cell_type": "code",
   "execution_count": 14,
   "id": "f2e610ce",
   "metadata": {},
   "outputs": [
    {
     "name": "stdout",
     "output_type": "stream",
     "text": [
      "모평균: 61.58\n",
      "표본평균의 평균: 62.04499999999999\n",
      "모분산/n: 23.09498\n",
      "표본평균의 분산: 28.156875000000003\n",
      "표본평균의 표준편차: 5.306305211726895\n",
      "표준오차: 4.805723670790903\n"
     ]
    }
   ],
   "source": [
    "print('모평균:', scores.mean())\n",
    "\n",
    "print('표본평균의 평균:', sample_mean.mean())\n",
    "\n",
    "print('모분산/n:', scores.var()/n)\n",
    "\n",
    "print('표본평균의 분산:', sample_mean.var())\n",
    "\n",
    "print('표본평균의 표준편차:',sample_mean.std())\n",
    "\n",
    "print('표준오차:', scores.std()/math.sqrt(n))"
   ]
  }
 ],
 "metadata": {
  "kernelspec": {
   "display_name": "Python 3 (ipykernel)",
   "language": "python",
   "name": "python3"
  },
  "language_info": {
   "codemirror_mode": {
    "name": "ipython",
    "version": 3
   },
   "file_extension": ".py",
   "mimetype": "text/x-python",
   "name": "python",
   "nbconvert_exporter": "python",
   "pygments_lexer": "ipython3",
   "version": "3.9.12"
  }
 },
 "nbformat": 4,
 "nbformat_minor": 5
}
