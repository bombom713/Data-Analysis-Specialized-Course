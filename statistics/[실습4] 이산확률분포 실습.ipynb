{
 "cells": [
  {
   "cell_type": "code",
   "execution_count": 1,
   "id": "3b907adb",
   "metadata": {},
   "outputs": [],
   "source": [
    "import os\n",
    "import warnings\n",
    "\n",
    "warnings.simplefilter(action='ignore',category=FutureWarning)\n",
    "\n",
    "import pandas as pd\n",
    "import numpy as np\n",
    "from scipy import stats\n",
    "\n",
    "import matplotlib.pyplot as plt\n",
    "import seaborn as sns\n",
    "%matplotlib inline\n",
    "\n",
    "import os\n",
    "if os.name=='nt':\n",
    "    font_family=\"Malgun Gothic\"\n",
    "else:\n",
    "    font_family=\"AppleGothic\"\n",
    "\n",
    "sns.set(font=font_family,rc={\"axes.unicode_minus\":False})"
   ]
  },
  {
   "cell_type": "code",
   "execution_count": 3,
   "id": "91137a4f",
   "metadata": {},
   "outputs": [],
   "source": [
    "mu=0.7\n",
    "bern=stats.bernoulli(mu)"
   ]
  },
  {
   "cell_type": "code",
   "execution_count": 4,
   "id": "d9272230",
   "metadata": {},
   "outputs": [
    {
     "data": {
      "image/png": "[encoded data removed]",
      "text/plain": [
       "<Figure size 432x288 with 1 Axes>"
      ]
     },
     "metadata": {},
     "output_type": "display_data"
    }
   ],
   "source": [
    "b_x=[0,1]\n",
    "bern_pmf=bern.pmf(b_x)\n",
    "\n",
    "plt.bar(b_x,bern_pmf)\n",
    "plt.xlim(-1,2)\n",
    "plt.ylim(0,1)\n",
    "plt.xticks([0,1],[\"x=0\",\"x=1\"])\n",
    "plt.xlabel(\"표본값\")\n",
    "plt.ylabel(\"p(x)\")\n",
    "plt.title(\"베르누이 확률변수의 확률질량함수\")\n",
    "plt.show()"
   ]
  },
  {
   "cell_type": "code",
   "execution_count": 5,
   "id": "02acbf55",
   "metadata": {},
   "outputs": [],
   "source": [
    "x_sample_bern=bern.rvs(100,random_state=0)"
   ]
  },
  {
   "cell_type": "code",
   "execution_count": 8,
   "id": "bab0dcf0",
   "metadata": {},
   "outputs": [
    {
     "data": {
      "text/plain": [
       "array([1, 0, 1, 1, 1, 1, 1, 0, 0, 1, 0, 1, 1, 0, 1, 1, 1, 0, 0, 0, 0, 0,\n",
       "       1, 0, 1, 1, 1, 0, 1, 1, 1, 0, 1, 1, 1, 1, 1, 1, 0, 1, 1, 1, 1, 1,\n",
       "       1, 1, 1, 1, 1, 1, 1, 1, 0, 1, 1, 1, 1, 1, 1, 1, 1, 1, 1, 1, 1, 1,\n",
       "       0, 1, 0, 1, 0, 1, 0, 1, 0, 1, 1, 1, 1, 1, 1, 1, 1, 1, 1, 1, 1, 1,\n",
       "       1, 0, 1, 1, 1, 0, 1, 1, 1, 1, 0, 1])"
      ]
     },
     "execution_count": 8,
     "metadata": {},
     "output_type": "execute_result"
    }
   ],
   "source": [
    "x_sample_bern"
   ]
  },
  {
   "cell_type": "code",
   "execution_count": 11,
   "id": "fee49c5d",
   "metadata": {},
   "outputs": [
    {
     "data": {
      "text/html": [
       "<div>\n",
       "<style scoped>\n",
       "    .dataframe tbody tr th:only-of-type {\n",
       "        vertical-align: middle;\n",
       "    }\n",
       "\n",
       "    .dataframe tbody tr th {\n",
       "        vertical-align: top;\n",
       "    }\n",
       "\n",
       "    .dataframe thead th {\n",
       "        text-align: right;\n",
       "    }\n",
       "</style>\n",
       "<table border=\"1\" class=\"dataframe\">\n",
       "  <thead>\n",
       "    <tr style=\"text-align: right;\">\n",
       "      <th></th>\n",
       "      <th>결과</th>\n",
       "      <th>검증(시뮬레이션)</th>\n",
       "    </tr>\n",
       "  </thead>\n",
       "  <tbody>\n",
       "    <tr>\n",
       "      <th>0</th>\n",
       "      <td>0.3</td>\n",
       "      <td>0.23</td>\n",
       "    </tr>\n",
       "    <tr>\n",
       "      <th>1</th>\n",
       "      <td>0.7</td>\n",
       "      <td>0.77</td>\n",
       "    </tr>\n",
       "  </tbody>\n",
       "</table>\n",
       "</div>"
      ],
      "text/plain": [
       "    결과  검증(시뮬레이션)\n",
       "0  0.3       0.23\n",
       "1  0.7       0.77"
      ]
     },
     "execution_count": 11,
     "metadata": {},
     "output_type": "execute_result"
    }
   ],
   "source": [
    "y_bern=np.bincount(x_sample_bern,minlength=2)/float(len(x_sample_bern))\n",
    "\n",
    "df_bern=pd.DataFrame({\"결과\":bern_pmf,\"검증(시뮬레이션)\":y_bern})\n",
    "df_bern.index=[0,1]\n",
    "df_bern"
   ]
  },
  {
   "cell_type": "code",
   "execution_count": 12,
   "id": "4f36d905",
   "metadata": {},
   "outputs": [
    {
     "name": "stdout",
     "output_type": "stream",
     "text": [
      "k=3,n=15,p=0.3의 PMF: 0.17004021326428484\n",
      "k=0~4,n=15,p=0.3의 PMF: 0.5154910592268434\n"
     ]
    }
   ],
   "source": [
    "print(\"k=3,n=15,p=0.3의 PMF:\",stats.binom.pmf(3,n=15,p=0.3))\n",
    "\n",
    "print(\"k=0~4,n=15,p=0.3의 PMF:\",stats.binom.cdf(4,n=15,p=0.3))"
   ]
  },
  {
   "cell_type": "code",
   "execution_count": 13,
   "id": "8d1480a5",
   "metadata": {},
   "outputs": [],
   "source": [
    "def bion_dist(k,n,p):\n",
    "    pmf_bion=stats.binom.pmf(k,n=n,p=p)\n",
    "    return pmf_bion"
   ]
  },
  {
   "cell_type": "code",
   "execution_count": 14,
   "id": "9a13839d",
   "metadata": {},
   "outputs": [
    {
     "data": {
      "image/png": "[encoded data removed]",
      "text/plain": [
       "<Figure size 432x288 with 1 Axes>"
      ]
     },
     "metadata": {},
     "output_type": "display_data"
    }
   ],
   "source": [
    "x=np.arange(0,16)\n",
    "\n",
    "pdf_result=[bion_dist(k,15,0.3)for k in range(0,16)]\n",
    "\n",
    "plt.title(\"확률질량함수\")\n",
    "plt.ylim(0,0.3)\n",
    "plt.text(12.5,0.28,'n,p=15,0.3')\n",
    "plt.bar(x,pdf_result,color='mediumaquamarine')\n",
    "\n",
    "plt.show()"
   ]
  },
  {
   "cell_type": "code",
   "execution_count": 15,
   "id": "f55302e6",
   "metadata": {},
   "outputs": [
    {
     "data": {
      "text/plain": [
       "0.18044704431548356"
      ]
     },
     "execution_count": 15,
     "metadata": {},
     "output_type": "execute_result"
    }
   ],
   "source": [
    "stats.poisson.pmf(3,2,loc=0)"
   ]
  },
  {
   "cell_type": "code",
   "execution_count": 16,
   "id": "ecc0b8e1",
   "metadata": {},
   "outputs": [],
   "source": [
    "def pois_dist(n,lamb):\n",
    "    pmf_poi=stats.poisson.pmf(n,lamb,loc=0)\n",
    "    return pmf_poi"
   ]
  },
  {
   "cell_type": "code",
   "execution_count": 18,
   "id": "38b1b030",
   "metadata": {},
   "outputs": [],
   "source": [
    "x=np.arange(0,41)\n",
    "poi_pdf_result=[pois_dist(n,10) for n in range(0,41)]"
   ]
  },
  {
   "cell_type": "code",
   "execution_count": 19,
   "id": "86be4c30",
   "metadata": {},
   "outputs": [
    {
     "data": {
      "image/png": "[encoded data removed]",
      "text/plain": [
       "<Figure size 432x288 with 1 Axes>"
      ]
     },
     "metadata": {},
     "output_type": "display_data"
    }
   ],
   "source": [
    "plt.ylim(0,0.15)\n",
    "plt.text(33.5,0.14,'람다=10')\n",
    "plt.bar(x,poi_pdf_result)\n",
    "plt.show()"
   ]
  },
  {
   "cell_type": "code",
   "execution_count": 20,
   "id": "2b4d2256",
   "metadata": {},
   "outputs": [
    {
     "data": {
      "image/png": "[encoded data removed]",
      "text/plain": [
       "<Figure size 720x720 with 3 Axes>"
      ]
     },
     "metadata": {},
     "output_type": "display_data"
    }
   ],
   "source": [
    "x=np.arange(0,41)\n",
    "\n",
    "fig=plt.figure(figsize=(10,10))\n",
    "\n",
    "fig.add_subplot(3,1,1)\n",
    "pmf_poin1=np.array([pois_dist(n,10) for n in range(0,41)])\n",
    "plt.ylim(0,0.15)\n",
    "plt.text(33.5,0.12,'람다=10')\n",
    "plt.bar(x,pmf_poin1,color='lightcoral')\n",
    "\n",
    "fig.add_subplot(3,1,2)\n",
    "pmf_poin2=np.array([pois_dist(n,15) for n in range(0,41)])\n",
    "plt.ylim(0,0.15)\n",
    "plt.text(33.5,0.12,'람다=15')\n",
    "plt.bar(x,pmf_poin2,color='mediumaquamarine')\n",
    "\n",
    "fig.add_subplot(3,1,3)\n",
    "pmf_poin3=np.array([pois_dist(n,20) for n in range(0,41)])\n",
    "plt.ylim(0,0.15)\n",
    "plt.text(33.5,0.12,'람다=20')\n",
    "plt.bar(x,pmf_poin3,color='royalblue')\n",
    "\n",
    "plt.show()"
   ]
  }
 ],
 "metadata": {
  "kernelspec": {
   "display_name": "Python 3 (ipykernel)",
   "language": "python",
   "name": "python3"
  },
  "language_info": {
   "codemirror_mode": {
    "name": "ipython",
    "version": 3
   },
   "file_extension": ".py",
   "mimetype": "text/x-python",
   "name": "python",
   "nbconvert_exporter": "python",
   "pygments_lexer": "ipython3",
   "version": "3.9.12"
  }
 },
 "nbformat": 4,
 "nbformat_minor": 5
}
