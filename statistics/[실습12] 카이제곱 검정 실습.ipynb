{
 "cells": [
  {
   "cell_type": "code",
   "execution_count": 1,
   "id": "c5b4640f",
   "metadata": {},
   "outputs": [],
   "source": [
    "import os\n",
    "import warnings\n",
    "warnings.simplefilter(action='ignore',category=FutureWarning)\n",
    "\n",
    "import pandas as pd\n",
    "import numpy as np\n",
    "import math\n",
    "from scipy import stats\n",
    "\n",
    "import matplotlib.pyplot as plt\n",
    "import seaborn as sns\n",
    "%matplotlib inline\n",
    "\n",
    "import os\n",
    "if os.name=='nt':\n",
    "    font_family=\"Malgun Gothic\"\n",
    "else:\n",
    "    font_family=\"AppleGothic\"\n",
    "    \n",
    "    sns.set(font=font_family,rc={\"axes.unicode_minus\":False})"
   ]
  },
  {
   "cell_type": "code",
   "execution_count": 2,
   "id": "5fb4d283",
   "metadata": {},
   "outputs": [],
   "source": [
    "observed_, expected_=[15,35,24,26],[25,25,25,25]\n",
    "ct_1=pd.DataFrame([observed_,expected_],columns=[\"A조\",\"B조\",\"C조\",\"D조\",],\n",
    "                 index=['관측빈도','기대빈도'])\n",
    "ct_1\n",
    "\n",
    "observed=ct_1.loc[\"관측빈도\"]\n",
    "expected=ct_1.loc[\"기대빈도\"]\n",
    "\n",
    "chi_squared_test=(observed-expected).pow(2)/expected"
   ]
  },
  {
   "cell_type": "code",
   "execution_count": 3,
   "id": "a61eff39",
   "metadata": {},
   "outputs": [
    {
     "name": "stdout",
     "output_type": "stream",
     "text": [
      "카이제곱 통계량 8.079999999999998\n",
      "기각역: 7.814727903251179\n",
      "귀무가설 기각, 4개조의 불량수는 차이가 있다.\n",
      "p-value: 0.04438695936738335\n",
      "귀무가설 기각, 4개조의 불량수는 차이가 있다.\n"
     ]
    },
    {
     "data": {
      "text/plain": [
       "Power_divergenceResult(statistic=8.079999999999998, pvalue=0.044386959367383315)"
      ]
     },
     "execution_count": 3,
     "metadata": {},
     "output_type": "execute_result"
    }
   ],
   "source": [
    "chi_squared_statistic=chi_squared_test.sum()\n",
    "print('카이제곱 통계량',chi_squared_statistic)\n",
    "\n",
    "dof=(4-1)*(2-1)\n",
    "chi_=stats.chi2(dof)\n",
    "chi_05=chi_.ppf(0.95)\n",
    "print('기각역:',chi_05)\n",
    "\n",
    "if chi_05>=chi_squared_statistic:\n",
    "    print(\"귀무가설 채택, 4개조의 불량수는 차이가 없다.\")\n",
    "else:\n",
    "    print(\"귀무가설 기각, 4개조의 불량수는 차이가 있다.\")\n",
    "    \n",
    "p_val=1-chi_.cdf(chi_squared_statistic)\n",
    "\n",
    "print('p-value:',p_val)\n",
    "\n",
    "if p_val>=0.05:\n",
    "    print(\"귀무가설 채택, 4개조의 불량수는 차이가 없다.\")\n",
    "else:\n",
    "    print(\"귀무가설 기각, 4개조의 불량수는 차이가 있다.\")\n",
    "    \n",
    "stats.chisquare(ct_1.loc[\"관측빈도\"].values,f_exp=ct_1.loc[\"기대빈도\"].values)"
   ]
  },
  {
   "cell_type": "code",
   "execution_count": 4,
   "id": "54636a21",
   "metadata": {},
   "outputs": [
    {
     "data": {
      "text/html": [
       "<div>\n",
       "<style scoped>\n",
       "    .dataframe tbody tr th:only-of-type {\n",
       "        vertical-align: middle;\n",
       "    }\n",
       "\n",
       "    .dataframe tbody tr th {\n",
       "        vertical-align: top;\n",
       "    }\n",
       "\n",
       "    .dataframe thead th {\n",
       "        text-align: right;\n",
       "    }\n",
       "</style>\n",
       "<table border=\"1\" class=\"dataframe\">\n",
       "  <thead>\n",
       "    <tr style=\"text-align: right;\">\n",
       "      <th></th>\n",
       "      <th>영양제</th>\n",
       "      <th>감기여부</th>\n",
       "    </tr>\n",
       "  </thead>\n",
       "  <tbody>\n",
       "    <tr>\n",
       "      <th>0</th>\n",
       "      <td>복용</td>\n",
       "      <td>유</td>\n",
       "    </tr>\n",
       "    <tr>\n",
       "      <th>1</th>\n",
       "      <td>복용</td>\n",
       "      <td>유</td>\n",
       "    </tr>\n",
       "    <tr>\n",
       "      <th>2</th>\n",
       "      <td>복용</td>\n",
       "      <td>유</td>\n",
       "    </tr>\n",
       "    <tr>\n",
       "      <th>3</th>\n",
       "      <td>복용</td>\n",
       "      <td>유</td>\n",
       "    </tr>\n",
       "    <tr>\n",
       "      <th>4</th>\n",
       "      <td>복용</td>\n",
       "      <td>유</td>\n",
       "    </tr>\n",
       "  </tbody>\n",
       "</table>\n",
       "</div>"
      ],
      "text/plain": [
       "  영양제 감기여부\n",
       "0  복용    유\n",
       "1  복용    유\n",
       "2  복용    유\n",
       "3  복용    유\n",
       "4  복용    유"
      ]
     },
     "execution_count": 4,
     "metadata": {},
     "output_type": "execute_result"
    }
   ],
   "source": [
    "cross_data = pd.DataFrame(\n",
    "       {\"영양제\": ['복용', '복용','복용','복용','복용','복용','복용','복용',\n",
    "                   '복용', '복용','복용','복용','복용','복용','복용','복용',\n",
    "                   '복용', '복용', '복용','복용',\n",
    "                            '미복용','미복용','미복용','미복용','미복용','미복용',\n",
    "                            '미복용','미복용','미복용','미복용','미복용','미복용',\n",
    "                            '미복용','미복용','미복용','미복용','미복용','미복용',\n",
    "                            '미복용','미복용'],\n",
    "                 \"감기여부\":['유','유','유','유','유','무','무','무','무','무',\n",
    "                             '무','무','무','무','무','무','무','무','무','무',\n",
    "                             '유','유','유','유','유','유','유','유','유','유',\n",
    "                             '유','유','무','무','무','무','무','무','무','무']\n",
    "       }\n",
    ")\n",
    "cross_data.head(5)"
   ]
  },
  {
   "cell_type": "code",
   "execution_count": 5,
   "id": "92e113ed",
   "metadata": {},
   "outputs": [
    {
     "name": "stdout",
     "output_type": "stream",
     "text": [
      "감기여부   무   유  All\n",
      "영양제              \n",
      "미복용    8  12   20\n",
      "복용    15   5   20\n",
      "All   23  17   40\n"
     ]
    }
   ],
   "source": [
    "print(pd.crosstab(cross_data['영양제'],cross_data['감기여부'],margins=True))\n",
    "\n",
    "data_crosstab=pd.crosstab(cross_data['영양제'],cross_data['감기여부'],margins=False)"
   ]
  },
  {
   "cell_type": "code",
   "execution_count": 6,
   "id": "22fc66bd",
   "metadata": {},
   "outputs": [
    {
     "data": {
      "text/html": [
       "<div>\n",
       "<style scoped>\n",
       "    .dataframe tbody tr th:only-of-type {\n",
       "        vertical-align: middle;\n",
       "    }\n",
       "\n",
       "    .dataframe tbody tr th {\n",
       "        vertical-align: top;\n",
       "    }\n",
       "\n",
       "    .dataframe thead th {\n",
       "        text-align: right;\n",
       "    }\n",
       "</style>\n",
       "<table border=\"1\" class=\"dataframe\">\n",
       "  <thead>\n",
       "    <tr style=\"text-align: right;\">\n",
       "      <th>감기여부</th>\n",
       "      <th>무</th>\n",
       "      <th>유</th>\n",
       "    </tr>\n",
       "    <tr>\n",
       "      <th>영양제</th>\n",
       "      <th></th>\n",
       "      <th></th>\n",
       "    </tr>\n",
       "  </thead>\n",
       "  <tbody>\n",
       "    <tr>\n",
       "      <th>미복용</th>\n",
       "      <td>8</td>\n",
       "      <td>12</td>\n",
       "    </tr>\n",
       "    <tr>\n",
       "      <th>복용</th>\n",
       "      <td>15</td>\n",
       "      <td>5</td>\n",
       "    </tr>\n",
       "  </tbody>\n",
       "</table>\n",
       "</div>"
      ],
      "text/plain": [
       "감기여부   무   유\n",
       "영양제         \n",
       "미복용    8  12\n",
       "복용    15   5"
      ]
     },
     "execution_count": 6,
     "metadata": {},
     "output_type": "execute_result"
    }
   ],
   "source": [
    "data_crosstab"
   ]
  },
  {
   "cell_type": "code",
   "execution_count": 7,
   "id": "6127a590",
   "metadata": {},
   "outputs": [
    {
     "name": "stdout",
     "output_type": "stream",
     "text": [
      "1. 카이제곱 통계량: 5.012787723785166\n",
      "2. p-value: 0.025160759200408785\n",
      "3. df: 1\n",
      "4. 기대값 행렬:\n",
      "         유    무\n",
      "복용   11.5  8.5\n",
      "미복용  11.5  8.5\n",
      "귀무가설 기각, 감기약 복용과 감기 유무는 차이가 있다.\n"
     ]
    }
   ],
   "source": [
    "from scipy.stats import chi2_contingency\n",
    "\n",
    "result=chi2_contingency(observed=data_crosstab,correction=False)\n",
    "print(\"1. 카이제곱 통계량:\", result[0])\n",
    "print(\"2. p-value:\", result[1])\n",
    "print(\"3. df:\", result[2])\n",
    "print(\"4. 기대값 행렬:\\n\", pd.DataFrame(result[3]).rename(index={0:'복용',1:'미복용'},columns={0:'유',1:'무'}))\n",
    "\n",
    "if 0.05>=result[1]:\n",
    "    print(\"귀무가설 기각, 감기약 복용과 감기 유무는 차이가 있다.\")\n",
    "else:\n",
    "    print(\"귀무가설 채택, 감기약 복용과 감기 유무는 차이가 없다.\")"
   ]
  }
 ],
 "metadata": {
  "kernelspec": {
   "display_name": "Python 3 (ipykernel)",
   "language": "python",
   "name": "python3"
  },
  "language_info": {
   "codemirror_mode": {
    "name": "ipython",
    "version": 3
   },
   "file_extension": ".py",
   "mimetype": "text/x-python",
   "name": "python",
   "nbconvert_exporter": "python",
   "pygments_lexer": "ipython3",
   "version": "3.9.12"
  }
 },
 "nbformat": 4,
 "nbformat_minor": 5
}
