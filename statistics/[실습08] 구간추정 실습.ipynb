{
 "cells": [
  {
   "cell_type": "code",
   "execution_count": 5,
   "id": "d80a30a0",
   "metadata": {},
   "outputs": [],
   "source": [
    "import os\n",
    "import warnings\n",
    "\n",
    "warnings.simplefilter(action='ignore',category=FutureWarning)\n",
    "\n",
    "import pandas as pd\n",
    "import numpy as np\n",
    "import math\n",
    "from scipy import stats\n",
    "\n",
    "import matplotlib.pyplot as plt\n",
    "import seaborn as sns\n",
    "%matplotlib inline\n",
    "\n",
    "import os\n",
    "if os.name=='nt':\n",
    "    font_family=\"Malgun Gothic\"\n",
    "else:\n",
    "    font_family=\"AppleGothic\"\n",
    "\n",
    "sns.set(font=font_family,rc={\"axes.unicode_minus\":False})\n",
    "\n",
    "np.random.seed(100)\n",
    "\n",
    "math_score=pd.DataFrame(np.random.randint(25,101,size=500),columns=[\"점수\"])\n",
    "\n",
    "scores=np.array(math_score['점수'])\n",
    "\n",
    "n=20\n",
    "nSample=100\n",
    "\n",
    "sample_mean=np.array([np.random.choice(scores,n,).mean() for _ in range(nSample)])"
   ]
  },
  {
   "cell_type": "code",
   "execution_count": 6,
   "id": "f4966460",
   "metadata": {},
   "outputs": [],
   "source": [
    "from scipy.stats import t\n",
    "t_95=t.ppf(1-(1-0.95)/2, df=20-1)"
   ]
  },
  {
   "cell_type": "code",
   "execution_count": 7,
   "id": "bb9a2f35",
   "metadata": {},
   "outputs": [
    {
     "data": {
      "text/plain": [
       "2.093024054408263"
      ]
     },
     "execution_count": 7,
     "metadata": {},
     "output_type": "execute_result"
    }
   ],
   "source": [
    "t_95"
   ]
  },
  {
   "cell_type": "code",
   "execution_count": 8,
   "id": "2abb88ce",
   "metadata": {},
   "outputs": [
    {
     "name": "stdout",
     "output_type": "stream",
     "text": [
      "59.199271219270706\n",
      "63.951728780729304\n",
      "신뢰구간: 4.752457561458598\n"
     ]
    }
   ],
   "source": [
    "sMean=sample_mean.mean()\n",
    "sStd=sample_mean.std()\n",
    "\n",
    "Low_c=sMean-t_95*(sStd/math.sqrt(n))\n",
    "Upper_c=sMean+t_95*(sStd/math.sqrt(n))\n",
    "print(Low_c)\n",
    "print(Upper_c)\n",
    "\n",
    "print('신뢰구간:',Upper_c-Low_c)"
   ]
  },
  {
   "cell_type": "code",
   "execution_count": 9,
   "id": "f3da3055",
   "metadata": {},
   "outputs": [
    {
     "name": "stdout",
     "output_type": "stream",
     "text": [
      "모평균 61.58\n",
      "표본평균 64.76666666666667\n",
      "모편차 21.491849617936563\n",
      "표본편차 21.790951231085703\n"
     ]
    }
   ],
   "source": [
    "z_n=30\n",
    "sample1=np.random.choice(scores,z_n)\n",
    "z_sMean=sample1.mean()\n",
    "z_sStd=sample1.std()\n",
    "\n",
    "print('모평균',scores.mean())\n",
    "print('표본평균',z_sMean)\n",
    "print('모편차',scores.std())\n",
    "print('표본편차',z_sStd)"
   ]
  },
  {
   "cell_type": "code",
   "execution_count": 10,
   "id": "c5a6b077",
   "metadata": {},
   "outputs": [],
   "source": [
    "z_95=stats.norm.ppf(1-(1-0.95)/2)"
   ]
  },
  {
   "cell_type": "code",
   "execution_count": 11,
   "id": "40791921",
   "metadata": {},
   "outputs": [
    {
     "name": "stdout",
     "output_type": "stream",
     "text": [
      "57.08\n",
      "72.46\n",
      "신뢰구간: 15.379999999999995\n"
     ]
    }
   ],
   "source": [
    "L_value_1=round(z_sMean-z_95*(scores.std()/math.sqrt(z_n)),2)\n",
    "U_value_1=round(z_sMean+z_95*(scores.std()/math.sqrt(z_n)),2)\n",
    "print(L_value_1)\n",
    "print(U_value_1)\n",
    "\n",
    "print('신뢰구간:',U_value_1-L_value_1)"
   ]
  },
  {
   "cell_type": "code",
   "execution_count": 12,
   "id": "72008dd0",
   "metadata": {},
   "outputs": [
    {
     "name": "stdout",
     "output_type": "stream",
     "text": [
      "신뢰구간: 203.6 ~ 206.4\n",
      "신뢰구간 길이: 2.8000000000000114\n",
      "203.6<205<206.4\n"
     ]
    }
   ],
   "source": [
    "mStd=5\n",
    "mMean=205\n",
    "n=49\n",
    "\n",
    "z_95_1=stats.norm.ppf(1-(1-0.95)/2)\n",
    "\n",
    "L_value=round(mMean-z_95_1*(mStd/math.sqrt(n)),2)\n",
    "U_value=round(mMean+z_95_1*(mStd/math.sqrt(n)),2)\n",
    "\n",
    "print('신뢰구간:',L_value,'~',U_value)\n",
    "print('신뢰구간 길이:',U_value - L_value)\n",
    "\n",
    "print(\"{}<{}<{}\".format(L_value,mMean,U_value))"
   ]
  },
  {
   "cell_type": "code",
   "execution_count": 13,
   "id": "37d32900",
   "metadata": {},
   "outputs": [
    {
     "data": {
      "image/png": "[encoded data removed]",
      "text/plain": [
       "<Figure size 432x288 with 1 Axes>"
      ]
     },
     "metadata": {},
     "output_type": "display_data"
    }
   ],
   "source": [
    "standard_norm=stats.norm(205,5)\n",
    "\n",
    "x=np.linspace(130,280,100)\n",
    "\n",
    "plt.vlines(L_value,0,standard_norm.pdf(L_value),colors=\"b\")\n",
    "plt.vlines(U_value,0,standard_norm.pdf(U_value),colors=\"b\")\n",
    "plt.plot(x,standard_norm.pdf(x),'b--',lw=2,alpha=0.6,label='norm pdf')\n",
    "\n",
    "plt.title(\"신뢰구간 시각화\")\n",
    "plt.legend()\n",
    "plt.show()"
   ]
  }
 ],
 "metadata": {
  "kernelspec": {
   "display_name": "Python 3 (ipykernel)",
   "language": "python",
   "name": "python3"
  },
  "language_info": {
   "codemirror_mode": {
    "name": "ipython",
    "version": 3
   },
   "file_extension": ".py",
   "mimetype": "text/x-python",
   "name": "python",
   "nbconvert_exporter": "python",
   "pygments_lexer": "ipython3",
   "version": "3.9.12"
  }
 },
 "nbformat": 4,
 "nbformat_minor": 5
}
