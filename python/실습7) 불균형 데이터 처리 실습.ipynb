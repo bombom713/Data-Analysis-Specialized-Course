{
 "cells": [
  {
   "cell_type": "code",
   "execution_count": 1,
   "id": "5c32ef15",
   "metadata": {},
   "outputs": [
    {
     "name": "stdout",
     "output_type": "stream",
     "text": [
      "Defaulting to user installation because normal site-packages is not writeable\n",
      "Requirement already satisfied: imbalanced-learn in c:\\users\\user\\appdata\\roaming\\python\\python39\\site-packages (0.9.1)\n",
      "Requirement already satisfied: numpy>=1.17.3 in c:\\programdata\\anaconda3\\lib\\site-packages (from imbalanced-learn) (1.21.5)\n",
      "Requirement already satisfied: scipy>=1.3.2 in c:\\programdata\\anaconda3\\lib\\site-packages (from imbalanced-learn) (1.7.3)\n",
      "Requirement already satisfied: scikit-learn>=1.1.0 in c:\\users\\user\\appdata\\roaming\\python\\python39\\site-packages (from imbalanced-learn) (1.1.1)\n",
      "Requirement already satisfied: joblib>=1.0.0 in c:\\programdata\\anaconda3\\lib\\site-packages (from imbalanced-learn) (1.1.0)\n",
      "Requirement already satisfied: threadpoolctl>=2.0.0 in c:\\programdata\\anaconda3\\lib\\site-packages (from imbalanced-learn) (2.2.0)\n"
     ]
    }
   ],
   "source": [
    "!pip install imbalanced-learn"
   ]
  },
  {
   "cell_type": "code",
   "execution_count": 2,
   "id": "be12d882",
   "metadata": {},
   "outputs": [],
   "source": [
    "import warnings\n",
    "warnings.simplefilter(action='ignore',category=FutureWarning)\n",
    "import numpy as np\n",
    "import pandas as pd\n",
    "%matplotlib inline\n",
    "from matplotlib import pyplot as plt\n",
    "import seaborn as sns\n",
    "from sklearn.datasets import make_classification\n",
    "\n",
    "from imblearn.under_sampling import RandomUnderSampler\n",
    "from imblearn.under_sampling import TomekLinks\n",
    "from imblearn.under_sampling import OneSidedSelection\n",
    "\n",
    "from imblearn.over_sampling import RandomOverSampler\n",
    "from imblearn.over_sampling import SMOTE\n",
    "from imblearn.over_sampling import ADASYN\n",
    "from imblearn.over_sampling import BorderlineSMOTE\n",
    "\n",
    "from sklearn.ensemble import RandomForestClassifier\n",
    "from sklearn.model_selection import RepeatedStratifiedKFold\n",
    "from sklearn.model_selection import cross_validate"
   ]
  },
  {
   "cell_type": "code",
   "execution_count": 3,
   "id": "e8622b7e",
   "metadata": {},
   "outputs": [],
   "source": [
    "import os\n",
    "if os.name=='nt':\n",
    "    font_family=\"Malgun Gothic\"\n",
    "else:\n",
    "    font_family=\"AppleGothic\"\n",
    "    \n",
    "sns.set(font=font_family,rc={\"axes.unicode_minus\":False})\n",
    "\n",
    "def Randomforest_Result(x,y,title):\n",
    "    \n",
    "    rf=RandomForestClassifier(criterion='entropy')\n",
    "    cv_rf=RepeatedStratifiedKFold(n_splits=10,n_repeats=3,random_state=1)\n",
    "    scores=cross_validate(rf,x,y,scoring='f1',cv=cv_rf,n_jobs=-1)\n",
    "    print(title,':','3-Fold CV f1 score: %.4f'%np.mean(scores['test_score']))\n",
    "    \n",
    "    return"
   ]
  },
  {
   "cell_type": "code",
   "execution_count": 4,
   "id": "96df000e",
   "metadata": {},
   "outputs": [
    {
     "name": "stdout",
     "output_type": "stream",
     "text": [
      "(10000, 20)\n"
     ]
    },
    {
     "data": {
      "text/plain": [
       "(10000,)"
      ]
     },
     "execution_count": 4,
     "metadata": {},
     "output_type": "execute_result"
    }
   ],
   "source": [
    "X_data,y_class=make_classification(n_classes=2,class_sep=2,n_samples=10000,n_features=20,weights=[0.9,0.1], flip_y=0,n_clusters_per_class=1,random_state=10)\n",
    "\n",
    "print(X_data.shape)\n",
    "y_class.shape"
   ]
  },
  {
   "cell_type": "code",
   "execution_count": 5,
   "id": "270011a0",
   "metadata": {},
   "outputs": [],
   "source": [
    "from collections import Counter\n",
    "from matplotlib import pyplot\n",
    "def count_and_plot(y):\n",
    "    counter=Counter(y)\n",
    "    for k,v in counter.items():\n",
    "        print('Class%d,n=%d(%.3f%%)'%(k,v,v/len(y)*100))\n",
    "    pyplot.bar(counter.keys(),counter.values())\n",
    "    pyplot.show()"
   ]
  },
  {
   "cell_type": "code",
   "execution_count": 6,
   "id": "946ccb1e",
   "metadata": {},
   "outputs": [
    {
     "name": "stdout",
     "output_type": "stream",
     "text": [
      "Class0,n=9000(90.000%)\n",
      "Class1,n=1000(10.000%)\n"
     ]
    },
    {
     "data": {
      "image/png": "[encoded data removed]",
      "text/plain": [
       "<Figure size 360x216 with 1 Axes>"
      ]
     },
     "metadata": {},
     "output_type": "display_data"
    }
   ],
   "source": [
    "plt.figure(figsize=(5,3))\n",
    "count_and_plot(y_class)"
   ]
  },
  {
   "cell_type": "code",
   "execution_count": 7,
   "id": "cfd9e73a",
   "metadata": {},
   "outputs": [
    {
     "name": "stdout",
     "output_type": "stream",
     "text": [
      "언더 샘플링_원본 데이터 결과 : 3-Fold CV f1 score: 0.9887\n"
     ]
    }
   ],
   "source": [
    "Randomforest_Result(X_data,y_class,\"언더 샘플링_원본 데이터 결과\")"
   ]
  },
  {
   "cell_type": "code",
   "execution_count": 8,
   "id": "707c8716",
   "metadata": {},
   "outputs": [],
   "source": [
    "under_random=RandomUnderSampler(sampling_strategy='majority')\n",
    "X_random,y_random=under_random.fit_resample(X_data,y_class)"
   ]
  },
  {
   "cell_type": "code",
   "execution_count": 9,
   "id": "1189b6bd",
   "metadata": {},
   "outputs": [
    {
     "name": "stdout",
     "output_type": "stream",
     "text": [
      "Class0,n=1000(50.000%)\n",
      "Class1,n=1000(50.000%)\n"
     ]
    },
    {
     "data": {
      "image/png": "[encoded data removed]",
      "text/plain": [
       "<Figure size 360x216 with 1 Axes>"
      ]
     },
     "metadata": {},
     "output_type": "display_data"
    }
   ],
   "source": [
    "plt.figure(figsize=(5,3))\n",
    "count_and_plot(y_random)"
   ]
  },
  {
   "cell_type": "code",
   "execution_count": 10,
   "id": "d6f10a35",
   "metadata": {},
   "outputs": [
    {
     "name": "stdout",
     "output_type": "stream",
     "text": [
      "언더 샘플링_랜덤언더 샘플링_데이터 결과 : 3-Fold CV f1 score: 0.9950\n"
     ]
    }
   ],
   "source": [
    "Randomforest_Result(X_random,y_random,\"언더 샘플링_랜덤언더 샘플링_데이터 결과\")"
   ]
  },
  {
   "cell_type": "code",
   "execution_count": 11,
   "id": "604493ea",
   "metadata": {},
   "outputs": [],
   "source": [
    "under_random_05=RandomUnderSampler(sampling_strategy=0.5)\n",
    "X_random_05,y_random_05=under_random_05.fit_resample(X_data,y_class)"
   ]
  },
  {
   "cell_type": "code",
   "execution_count": 12,
   "id": "10738a05",
   "metadata": {},
   "outputs": [
    {
     "name": "stdout",
     "output_type": "stream",
     "text": [
      "Class0,n=2000(66.667%)\n",
      "Class1,n=1000(33.333%)\n"
     ]
    },
    {
     "data": {
      "image/png": "[encoded data removed]",
      "text/plain": [
       "<Figure size 360x216 with 1 Axes>"
      ]
     },
     "metadata": {},
     "output_type": "display_data"
    }
   ],
   "source": [
    "plt.figure(figsize=(5,3))\n",
    "count_and_plot(y_random_05)"
   ]
  },
  {
   "cell_type": "code",
   "execution_count": 13,
   "id": "f1c50721",
   "metadata": {},
   "outputs": [
    {
     "name": "stdout",
     "output_type": "stream",
     "text": [
      "언더 샘플링_랜덤언더 샘플링_비율:0.5_데이터 결과 : 3-Fold CV f1 score: 0.9933\n"
     ]
    }
   ],
   "source": [
    "Randomforest_Result(X_random_05,y_random_05,\"언더 샘플링_랜덤언더 샘플링_비율:0.5_데이터 결과\")"
   ]
  },
  {
   "cell_type": "code",
   "execution_count": 14,
   "id": "45a8d5d3",
   "metadata": {},
   "outputs": [],
   "source": [
    "tl=TomekLinks()\n",
    "X_tl,y_tl=tl.fit_resample(X_data,y_class)"
   ]
  },
  {
   "cell_type": "code",
   "execution_count": 15,
   "id": "2b858864",
   "metadata": {},
   "outputs": [
    {
     "name": "stdout",
     "output_type": "stream",
     "text": [
      "Class0,n=8993(89.993%)\n",
      "Class1,n=1000(10.007%)\n"
     ]
    },
    {
     "data": {
      "image/png": "[encoded data removed]",
      "text/plain": [
       "<Figure size 360x216 with 1 Axes>"
      ]
     },
     "metadata": {},
     "output_type": "display_data"
    }
   ],
   "source": [
    "plt.figure(figsize=(5,3))\n",
    "count_and_plot(y_tl)"
   ]
  },
  {
   "cell_type": "code",
   "execution_count": 16,
   "id": "0c44471e",
   "metadata": {},
   "outputs": [
    {
     "name": "stdout",
     "output_type": "stream",
     "text": [
      "언더 샘플링_토멕링크_데이터 결과 : 3-Fold CV f1 score: 0.9886\n"
     ]
    }
   ],
   "source": [
    "Randomforest_Result(X_tl,y_tl,\"언더 샘플링_토멕링크_데이터 결과\")"
   ]
  },
  {
   "cell_type": "code",
   "execution_count": 17,
   "id": "0a37b8ce",
   "metadata": {},
   "outputs": [],
   "source": [
    "oss=OneSidedSelection(random_state=42)\n",
    "X_oss,y_oss=oss.fit_resample(X_data,y_class)"
   ]
  },
  {
   "cell_type": "code",
   "execution_count": 18,
   "id": "202af486",
   "metadata": {},
   "outputs": [
    {
     "name": "stdout",
     "output_type": "stream",
     "text": [
      "Class0,n=7666(88.461%)\n",
      "Class1,n=1000(11.539%)\n"
     ]
    },
    {
     "data": {
      "image/png": "[encoded data removed]",
      "text/plain": [
       "<Figure size 360x216 with 1 Axes>"
      ]
     },
     "metadata": {},
     "output_type": "display_data"
    }
   ],
   "source": [
    "plt.figure(figsize=(5,3))\n",
    "count_and_plot(y_oss)"
   ]
  },
  {
   "cell_type": "code",
   "execution_count": 19,
   "id": "c4b84ae5",
   "metadata": {},
   "outputs": [
    {
     "name": "stdout",
     "output_type": "stream",
     "text": [
      "언더 샘플링_OSS_데이터 결과 : 3-Fold CV f1 score: 0.9893\n"
     ]
    }
   ],
   "source": [
    "Randomforest_Result(X_oss,y_oss,\"언더 샘플링_OSS_데이터 결과\")"
   ]
  },
  {
   "cell_type": "code",
   "execution_count": 20,
   "id": "4618ed3d",
   "metadata": {},
   "outputs": [
    {
     "name": "stdout",
     "output_type": "stream",
     "text": [
      "(10000, 20)\n",
      "Class0,n=9900(99.000%)\n",
      "Class1,n=100(1.000%)\n"
     ]
    },
    {
     "data": {
      "image/png": "[encoded data removed]",
      "text/plain": [
       "<Figure size 360x288 with 1 Axes>"
      ]
     },
     "metadata": {},
     "output_type": "display_data"
    }
   ],
   "source": [
    "X_data,y_class=make_classification(n_classes=2,class_sep=2,n_samples=10000,n_features=20,weights=[0.99,0.1],flip_y=0,n_clusters_per_class=1,random_state=10)\n",
    "\n",
    "print(X_data.shape)\n",
    "y_class.shape\n",
    "\n",
    "plt.figure(figsize=(5,4))\n",
    "count_and_plot(y_class)"
   ]
  },
  {
   "cell_type": "code",
   "execution_count": 21,
   "id": "34c58f97",
   "metadata": {},
   "outputs": [
    {
     "name": "stdout",
     "output_type": "stream",
     "text": [
      "오버 샘플링_원본 데이터 결과 : 3-Fold CV f1 score: 0.9700\n"
     ]
    }
   ],
   "source": [
    "Randomforest_Result(X_data,y_class,\"오버 샘플링_원본 데이터 결과\")"
   ]
  },
  {
   "cell_type": "code",
   "execution_count": 22,
   "id": "8af07834",
   "metadata": {},
   "outputs": [],
   "source": [
    "ros=RandomOverSampler(random_state=42)\n",
    "X_ros,y_ros=ros.fit_resample(X_data,y_class)"
   ]
  },
  {
   "cell_type": "code",
   "execution_count": 23,
   "id": "5a5a3e20",
   "metadata": {},
   "outputs": [
    {
     "name": "stdout",
     "output_type": "stream",
     "text": [
      "Class0,n=9900(50.000%)\n",
      "Class1,n=9900(50.000%)\n"
     ]
    },
    {
     "data": {
      "image/png": "[encoded data removed]",
      "text/plain": [
       "<Figure size 360x216 with 1 Axes>"
      ]
     },
     "metadata": {},
     "output_type": "display_data"
    }
   ],
   "source": [
    "plt.figure(figsize=(5,3))\n",
    "count_and_plot(y_ros)"
   ]
  },
  {
   "cell_type": "code",
   "execution_count": 24,
   "id": "df942f72",
   "metadata": {},
   "outputs": [
    {
     "name": "stdout",
     "output_type": "stream",
     "text": [
      "오버 샘플링_랜덤오버샘플링 결과 : 3-Fold CV f1 score: 0.9630\n"
     ]
    }
   ],
   "source": [
    "Randomforest_Result(X_data,y_class,\"오버 샘플링_랜덤오버샘플링 결과\")"
   ]
  },
  {
   "cell_type": "code",
   "execution_count": 25,
   "id": "de5fc1f7",
   "metadata": {},
   "outputs": [],
   "source": [
    "smote=SMOTE()\n",
    "X_sm,y_sm=smote.fit_resample(X_data,y_class)"
   ]
  },
  {
   "cell_type": "code",
   "execution_count": 26,
   "id": "06ad0589",
   "metadata": {},
   "outputs": [
    {
     "name": "stdout",
     "output_type": "stream",
     "text": [
      "Class0,n=9900(50.000%)\n",
      "Class1,n=9900(50.000%)\n"
     ]
    },
    {
     "data": {
      "image/png": "[encoded data removed]",
      "text/plain": [
       "<Figure size 360x216 with 1 Axes>"
      ]
     },
     "metadata": {},
     "output_type": "display_data"
    }
   ],
   "source": [
    "plt.figure(figsize=(5,3))\n",
    "count_and_plot(y_sm)"
   ]
  },
  {
   "cell_type": "code",
   "execution_count": 27,
   "id": "12a4b17e",
   "metadata": {},
   "outputs": [
    {
     "name": "stdout",
     "output_type": "stream",
     "text": [
      "오버 샘플링_SMOTE 결과 : 3-Fold CV f1 score: 0.9997\n"
     ]
    }
   ],
   "source": [
    "Randomforest_Result(X_sm,y_sm,\"오버 샘플링_SMOTE 결과\")"
   ]
  },
  {
   "cell_type": "code",
   "execution_count": 28,
   "id": "fb43860d",
   "metadata": {},
   "outputs": [],
   "source": [
    "ada=ADASYN(random_state=42)\n",
    "X_ada,y_ada=ada.fit_resample(X_data,y_class)"
   ]
  },
  {
   "cell_type": "code",
   "execution_count": 29,
   "id": "b33878c1",
   "metadata": {},
   "outputs": [
    {
     "name": "stdout",
     "output_type": "stream",
     "text": [
      "Class0,n=9900(50.000%)\n",
      "Class1,n=9900(50.000%)\n"
     ]
    },
    {
     "data": {
      "image/png": "[encoded data removed]",
      "text/plain": [
       "<Figure size 360x216 with 1 Axes>"
      ]
     },
     "metadata": {},
     "output_type": "display_data"
    }
   ],
   "source": [
    "plt.figure(figsize=(5,3))\n",
    "count_and_plot(y_ada)"
   ]
  },
  {
   "cell_type": "code",
   "execution_count": 30,
   "id": "4ab08164",
   "metadata": {},
   "outputs": [
    {
     "name": "stdout",
     "output_type": "stream",
     "text": [
      "오버 샘플링_ADASYN 결과 : 3-Fold CV f1 score: 0.9997\n"
     ]
    }
   ],
   "source": [
    "Randomforest_Result(X_ada,y_ada,\"오버 샘플링_ADASYN 결과\")"
   ]
  },
  {
   "cell_type": "code",
   "execution_count": 31,
   "id": "f5953998",
   "metadata": {},
   "outputs": [],
   "source": [
    "bor_sm=BorderlineSMOTE(random_state=42)\n",
    "X_bor_sm,y_bor_sm=bor_sm.fit_resample(X_data,y_class)"
   ]
  },
  {
   "cell_type": "code",
   "execution_count": 32,
   "id": "01059847",
   "metadata": {},
   "outputs": [
    {
     "name": "stdout",
     "output_type": "stream",
     "text": [
      "Class0,n=9900(50.000%)\n",
      "Class1,n=9900(50.000%)\n"
     ]
    },
    {
     "data": {
      "image/png": "[encoded data removed]",
      "text/plain": [
       "<Figure size 360x216 with 1 Axes>"
      ]
     },
     "metadata": {},
     "output_type": "display_data"
    }
   ],
   "source": [
    "plt.figure(figsize=(5,3))\n",
    "count_and_plot(y_bor_sm)"
   ]
  },
  {
   "cell_type": "code",
   "execution_count": 33,
   "id": "ad06fa4b",
   "metadata": {},
   "outputs": [
    {
     "name": "stdout",
     "output_type": "stream",
     "text": [
      "오버 샘플링_Boderline SMOTE 결과 : 3-Fold CV f1 score: 0.9998\n"
     ]
    }
   ],
   "source": [
    "Randomforest_Result(X_bor_sm,y_bor_sm,\"오버 샘플링_Boderline SMOTE 결과\")"
   ]
  }
 ],
 "metadata": {
  "kernelspec": {
   "display_name": "Python 3 (ipykernel)",
   "language": "python",
   "name": "python3"
  },
  "language_info": {
   "codemirror_mode": {
    "name": "ipython",
    "version": 3
   },
   "file_extension": ".py",
   "mimetype": "text/x-python",
   "name": "python",
   "nbconvert_exporter": "python",
   "pygments_lexer": "ipython3",
   "version": "3.9.12"
  }
 },
 "nbformat": 4,
 "nbformat_minor": 5
}
